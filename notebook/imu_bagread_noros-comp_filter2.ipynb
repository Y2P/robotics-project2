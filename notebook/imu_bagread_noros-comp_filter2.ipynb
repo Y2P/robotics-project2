{
 "cells": [
  {
   "cell_type": "code",
   "execution_count": 1,
   "metadata": {},
   "outputs": [],
   "source": [
    "import pandas as pd\n",
    "pd.set_option('display.max_columns', 500)\n",
    "import matplotlib.pyplot as plt\n",
    "import numpy as np\n",
    "import math\n",
    "%matplotlib widget\n",
    "from ipywidgets import HBox, FloatSlider"
   ]
  },
  {
   "cell_type": "code",
   "execution_count": 2,
   "metadata": {},
   "outputs": [],
   "source": [
    "df = pd.read_pickle('../bag_data/imu_bag_fixed.pickle')"
   ]
  },
  {
   "cell_type": "code",
   "execution_count": 3,
   "metadata": {},
   "outputs": [
    {
     "data": {
      "text/plain": [
       "(288688, 71)"
      ]
     },
     "execution_count": 3,
     "metadata": {},
     "output_type": "execute_result"
    }
   ],
   "source": [
    "df.shape"
   ]
  },
  {
   "cell_type": "code",
   "execution_count": 4,
   "metadata": {},
   "outputs": [
    {
     "data": {
      "text/plain": [
       "(30286,)"
      ]
     },
     "execution_count": 4,
     "metadata": {},
     "output_type": "execute_result"
    }
   ],
   "source": [
    "df_imu_linear = df[[ 'imu__linear_acceleration_y', 'imu__linear_acceleration_z']].dropna()\n",
    "df_imu_linear['imu__linear_acceleration_y'] -= -1.568076\n",
    "df_imu_linear['imu__linear_acceleration_z'] -= -0.005081\n",
    "linear_g = np.sum(np.abs(df_imu_linear.values),axis=1)\n",
    "linear_g.shape"
   ]
  },
  {
   "cell_type": "code",
   "execution_count": 5,
   "metadata": {},
   "outputs": [
    {
     "data": {
      "text/html": [
       "<div>\n",
       "<style scoped>\n",
       "    .dataframe tbody tr th:only-of-type {\n",
       "        vertical-align: middle;\n",
       "    }\n",
       "\n",
       "    .dataframe tbody tr th {\n",
       "        vertical-align: top;\n",
       "    }\n",
       "\n",
       "    .dataframe thead th {\n",
       "        text-align: right;\n",
       "    }\n",
       "</style>\n",
       "<table border=\"1\" class=\"dataframe\">\n",
       "  <thead>\n",
       "    <tr style=\"text-align: right;\">\n",
       "      <th></th>\n",
       "      <th>imu__linear_acceleration_y</th>\n",
       "      <th>imu__linear_acceleration_z</th>\n",
       "    </tr>\n",
       "  </thead>\n",
       "  <tbody>\n",
       "    <tr>\n",
       "      <th>count</th>\n",
       "      <td>3.028600e+04</td>\n",
       "      <td>3.028600e+04</td>\n",
       "    </tr>\n",
       "    <tr>\n",
       "      <th>mean</th>\n",
       "      <td>2.070798e-07</td>\n",
       "      <td>-3.935732e-07</td>\n",
       "    </tr>\n",
       "    <tr>\n",
       "      <th>std</th>\n",
       "      <td>1.978042e-01</td>\n",
       "      <td>2.756683e-01</td>\n",
       "    </tr>\n",
       "    <tr>\n",
       "      <th>min</th>\n",
       "      <td>-5.092438e+00</td>\n",
       "      <td>-3.342362e+00</td>\n",
       "    </tr>\n",
       "    <tr>\n",
       "      <th>25%</th>\n",
       "      <td>-6.422080e-02</td>\n",
       "      <td>-6.991078e-02</td>\n",
       "    </tr>\n",
       "    <tr>\n",
       "      <th>50%</th>\n",
       "      <td>-8.455053e-03</td>\n",
       "      <td>-1.059144e-02</td>\n",
       "    </tr>\n",
       "    <tr>\n",
       "      <th>75%</th>\n",
       "      <td>6.589936e-02</td>\n",
       "      <td>6.850107e-02</td>\n",
       "    </tr>\n",
       "    <tr>\n",
       "      <th>max</th>\n",
       "      <td>3.021487e+00</td>\n",
       "      <td>4.675637e+00</td>\n",
       "    </tr>\n",
       "  </tbody>\n",
       "</table>\n",
       "</div>"
      ],
      "text/plain": [
       "       imu__linear_acceleration_y  imu__linear_acceleration_z\n",
       "count                3.028600e+04                3.028600e+04\n",
       "mean                 2.070798e-07               -3.935732e-07\n",
       "std                  1.978042e-01                2.756683e-01\n",
       "min                 -5.092438e+00               -3.342362e+00\n",
       "25%                 -6.422080e-02               -6.991078e-02\n",
       "50%                 -8.455053e-03               -1.059144e-02\n",
       "75%                  6.589936e-02                6.850107e-02\n",
       "max                  3.021487e+00                4.675637e+00"
      ]
     },
     "execution_count": 5,
     "metadata": {},
     "output_type": "execute_result"
    }
   ],
   "source": [
    "df_imu_linear.describe()"
   ]
  },
  {
   "cell_type": "code",
   "execution_count": 6,
   "metadata": {},
   "outputs": [
    {
     "data": {
      "text/plain": [
       "count    30286.000000\n",
       "mean         0.241906\n",
       "std          0.347839\n",
       "min          0.001544\n",
       "25%          0.086476\n",
       "50%          0.143793\n",
       "75%          0.251361\n",
       "max          6.395922\n",
       "dtype: float64"
      ]
     },
     "execution_count": 6,
     "metadata": {},
     "output_type": "execute_result"
    }
   ],
   "source": [
    "df_g = pd.Series(linear_g)\n",
    "df_g.describe()\n"
   ]
  },
  {
   "cell_type": "code",
   "execution_count": 7,
   "metadata": {},
   "outputs": [
    {
     "data": {
      "image/png": "[encoded data removed]",
      "text/plain": [
       "<Figure size 432x288 with 1 Axes>"
      ]
     },
     "metadata": {},
     "output_type": "display_data"
    }
   ],
   "source": [
    "plt.plot(linear_g)\n",
    "plt.show()"
   ]
  },
  {
   "cell_type": "code",
   "execution_count": 8,
   "metadata": {},
   "outputs": [],
   "source": [
    "imu_ang_vel_x = df.imu__angular_velocity_x.values\n",
    "imu_linear_vel_y = df.imu__linear_acceleration_y.values\n",
    "imu_linear_vel_z = df.imu__linear_acceleration_z.values\n",
    "encoder_ang_vel_z = df.vel__twist_angular_z.values\n",
    "ground_pose_theta = df.robot_markerset_ground_pose__theta.values"
   ]
  },
  {
   "cell_type": "code",
   "execution_count": 9,
   "metadata": {},
   "outputs": [
    {
     "data": {
      "image/png": "[encoded data removed]",
      "text/plain": [
       "<Figure size 432x288 with 1 Axes>"
      ]
     },
     "metadata": {},
     "output_type": "display_data"
    }
   ],
   "source": [
    "plt.plot(df.vel__twist_angular_z.values)\n",
    "plt.show()"
   ]
  },
  {
   "cell_type": "code",
   "execution_count": 15,
   "metadata": {},
   "outputs": [],
   "source": [
    "def calc(gain_imu):\n",
    "    ground_last_theta = 0\n",
    "    last_encoder_ang_vel_z = 0\n",
    "    g_th_max = 10.0\n",
    "    g_th_min =  0.143793\n",
    "    imu_angular_bias = -0.345464\n",
    "    fake_ground_pose_theta = 0.495\n",
    "\n",
    "    #gain_angular = 0.99987\n",
    "    dt = 0.01\n",
    "    calculated_thetas = []\n",
    "    ground_thetas = []\n",
    "    for i in range(df.shape[0]):\n",
    "        if not np.isnan(ground_pose_theta[i]):\n",
    "            if not np.isclose(ground_pose_theta[i] , fake_ground_pose_theta, atol=0.005):\n",
    "                ground_last_theta = ground_pose_theta[i]\n",
    "                #print(ground_last_theta)\n",
    "        if not np.isnan(encoder_ang_vel_z[i]):\n",
    "            last_encoder_ang_vel_z = encoder_ang_vel_z[i]\n",
    "        if not np.isnan(imu_ang_vel_x[i]):\n",
    "            ground_thetas.append(ground_last_theta)\n",
    "            new_theta = (imu_ang_vel_x[i] - imu_angular_bias)* dt\n",
    "            new_theta = gain_imu * new_theta + (1.0-gain_imu) * -last_encoder_ang_vel_z\n",
    "                #print( theta_acc)\n",
    "            calculated_thetas.append(-new_theta)\n",
    "    calculated_thetas_cumsum = np.cumsum(calculated_thetas)\n",
    "    return np.unwrap(ground_thetas),calculated_thetas_cumsum"
   ]
  },
  {
   "cell_type": "code",
   "execution_count": 20,
   "metadata": {},
   "outputs": [
    {
     "data": {
      "image/png": "[encoded data removed]",
      "text/plain": [
       "<Figure size 432x288 with 1 Axes>"
      ]
     },
     "metadata": {},
     "output_type": "display_data"
    }
   ],
   "source": [
    "fig = plt.figure()\n",
    "ground,computed = calc(0.9990)\n",
    "plt.plot(ground)\n",
    "plt.plot(computed)\n",
    "plt.show()\n",
    "\n",
    "    "
   ]
  },
  {
   "cell_type": "code",
   "execution_count": null,
   "metadata": {},
   "outputs": [],
   "source": [
    "df[df.vel__twist_linear_x.notnull()].sample(20)"
   ]
  },
  {
   "cell_type": "code",
   "execution_count": null,
   "metadata": {},
   "outputs": [],
   "source": [
    "from scipy.spatial import distance\n",
    "from datetime import date\n",
    "\n",
    "vel_linear_x = df.vel__twist_linear_x.values\n",
    "ground_pose_x = df.robot_markerset_ground_pose__x.values\n",
    "ground_pose_y = df.robot_markerset_ground_pose__y.values\n",
    "prev_x = 0\n",
    "prev_y = 0\n",
    "enc_dt_min = 0.01\n",
    "p2p_ground_euc_distances = []\n",
    "linear_euc_distances = []\n",
    "prev_encoder_time = 0\n",
    "print(df.index[10])\n",
    "for i in range(df.shape[0]):\n",
    "    if not np.isnan(vel_linear_x[i]) and df.index[i] > pd.Timestamp(1971, 1, 1, 12):\n",
    "        if prev_encoder_time == 0:\n",
    "            prev_encoder_time = df.index[i]\n",
    "        current_dt = (df.index[i]- prev_encoder_time).total_seconds()\n",
    "        #print(current_dt)\n",
    "        if current_dt >= enc_dt_min:\n",
    "            linear_euc_distances.append(abs(vel_linear_x[i]) * current_dt)\n",
    "            prev_encoder_dt = df.index[i]\n",
    "    if not np.isnan(ground_pose_x[i]) and not np.isnan(ground_pose_y[i]):\n",
    "        p2p_ground_euc_distances.append(distance.euclidean((ground_pose_x[i],ground_pose_y[i]), (prev_x,prev_y)))\n",
    "        prev_x = ground_pose_x[i]\n",
    "        prev_y = ground_pose_y[i]\n",
    "\n"
   ]
  },
  {
   "cell_type": "code",
   "execution_count": null,
   "metadata": {},
   "outputs": [],
   "source": [
    "linear_euc_distances[:10]"
   ]
  },
  {
   "cell_type": "code",
   "execution_count": null,
   "metadata": {},
   "outputs": [],
   "source": [
    "p2p_ground_euc_distances[:10]"
   ]
  },
  {
   "cell_type": "code",
   "execution_count": null,
   "metadata": {},
   "outputs": [],
   "source": [
    "fig = plt.figure()\n",
    "plt.plot(np.cumsum(p2p_ground_euc_distances))\n",
    "plt.plot(np.cumsum(linear_euc_distances))\n",
    "plt.show()"
   ]
  },
  {
   "cell_type": "code",
   "execution_count": null,
   "metadata": {},
   "outputs": [],
   "source": []
  },
  {
   "cell_type": "code",
   "execution_count": null,
   "metadata": {},
   "outputs": [],
   "source": []
  }
 ],
 "metadata": {
  "kernelspec": {
   "display_name": "Python 3",
   "language": "python",
   "name": "python3"
  },
  "language_info": {
   "codemirror_mode": {
    "name": "ipython",
    "version": 3
   },
   "file_extension": ".py",
   "mimetype": "text/x-python",
   "name": "python",
   "nbconvert_exporter": "python",
   "pygments_lexer": "ipython3",
   "version": "3.6.6"
  }
 },
 "nbformat": 4,
 "nbformat_minor": 2
}
