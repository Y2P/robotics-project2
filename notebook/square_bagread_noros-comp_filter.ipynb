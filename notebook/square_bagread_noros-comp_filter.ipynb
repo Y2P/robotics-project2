{
 "cells": [
  {
   "cell_type": "code",
   "execution_count": 1,
   "metadata": {},
   "outputs": [],
   "source": [
    "import pandas as pd\n",
    "pd.set_option('display.max_columns', 500)\n",
    "import matplotlib.pyplot as plt\n",
    "import numpy as np\n",
    "import math\n",
    "%matplotlib widget\n",
    "from ipywidgets import HBox, FloatSlider"
   ]
  },
  {
   "cell_type": "code",
   "execution_count": 3,
   "metadata": {},
   "outputs": [],
   "source": [
    "df = pd.read_pickle('../bag_data/square_fixed.pickle')"
   ]
  },
  {
   "cell_type": "code",
   "execution_count": 4,
   "metadata": {},
   "outputs": [
    {
     "data": {
      "text/plain": [
       "(63034, 55)"
      ]
     },
     "execution_count": 4,
     "metadata": {},
     "output_type": "execute_result"
    }
   ],
   "source": [
    "df.shape"
   ]
  },
  {
   "cell_type": "code",
   "execution_count": 5,
   "metadata": {},
   "outputs": [
    {
     "data": {
      "text/plain": [
       "(17977,)"
      ]
     },
     "execution_count": 5,
     "metadata": {},
     "output_type": "execute_result"
    }
   ],
   "source": [
    "df_imu_linear = df[[ 'imu__linear_acceleration_y', 'imu__linear_acceleration_z']].dropna()\n",
    "df_imu_linear['imu__linear_acceleration_y'] -= -1.568076\n",
    "df_imu_linear['imu__linear_acceleration_z'] -= -0.005081\n",
    "linear_g = np.sum(np.abs(df_imu_linear.values),axis=1)\n",
    "linear_g.shape"
   ]
  },
  {
   "cell_type": "code",
   "execution_count": 6,
   "metadata": {},
   "outputs": [
    {
     "data": {
      "text/html": [
       "<div>\n",
       "<style scoped>\n",
       "    .dataframe tbody tr th:only-of-type {\n",
       "        vertical-align: middle;\n",
       "    }\n",
       "\n",
       "    .dataframe tbody tr th {\n",
       "        vertical-align: top;\n",
       "    }\n",
       "\n",
       "    .dataframe thead th {\n",
       "        text-align: right;\n",
       "    }\n",
       "</style>\n",
       "<table border=\"1\" class=\"dataframe\">\n",
       "  <thead>\n",
       "    <tr style=\"text-align: right;\">\n",
       "      <th></th>\n",
       "      <th>imu__linear_acceleration_y</th>\n",
       "      <th>imu__linear_acceleration_z</th>\n",
       "    </tr>\n",
       "  </thead>\n",
       "  <tbody>\n",
       "    <tr>\n",
       "      <th>count</th>\n",
       "      <td>17977.000000</td>\n",
       "      <td>17977.000000</td>\n",
       "    </tr>\n",
       "    <tr>\n",
       "      <th>mean</th>\n",
       "      <td>0.006365</td>\n",
       "      <td>-0.002251</td>\n",
       "    </tr>\n",
       "    <tr>\n",
       "      <th>std</th>\n",
       "      <td>0.072198</td>\n",
       "      <td>0.123268</td>\n",
       "    </tr>\n",
       "    <tr>\n",
       "      <th>min</th>\n",
       "      <td>-0.742705</td>\n",
       "      <td>-2.709622</td>\n",
       "    </tr>\n",
       "    <tr>\n",
       "      <th>25%</th>\n",
       "      <td>-0.027044</td>\n",
       "      <td>-0.030365</td>\n",
       "    </tr>\n",
       "    <tr>\n",
       "      <th>50%</th>\n",
       "      <td>0.010134</td>\n",
       "      <td>-0.000705</td>\n",
       "    </tr>\n",
       "    <tr>\n",
       "      <th>75%</th>\n",
       "      <td>0.038016</td>\n",
       "      <td>0.028955</td>\n",
       "    </tr>\n",
       "    <tr>\n",
       "      <th>max</th>\n",
       "      <td>0.902387</td>\n",
       "      <td>1.996380</td>\n",
       "    </tr>\n",
       "  </tbody>\n",
       "</table>\n",
       "</div>"
      ],
      "text/plain": [
       "       imu__linear_acceleration_y  imu__linear_acceleration_z\n",
       "count                17977.000000                17977.000000\n",
       "mean                     0.006365                   -0.002251\n",
       "std                      0.072198                    0.123268\n",
       "min                     -0.742705                   -2.709622\n",
       "25%                     -0.027044                   -0.030365\n",
       "50%                      0.010134                   -0.000705\n",
       "75%                      0.038016                    0.028955\n",
       "max                      0.902387                    1.996380"
      ]
     },
     "execution_count": 6,
     "metadata": {},
     "output_type": "execute_result"
    }
   ],
   "source": [
    "df_imu_linear.describe()"
   ]
  },
  {
   "cell_type": "code",
   "execution_count": 7,
   "metadata": {},
   "outputs": [
    {
     "data": {
      "text/plain": [
       "count    17977.000000\n",
       "mean         0.104242\n",
       "std          0.137200\n",
       "min          0.001544\n",
       "25%          0.047198\n",
       "50%          0.076956\n",
       "75%          0.122835\n",
       "max          3.327947\n",
       "dtype: float64"
      ]
     },
     "execution_count": 7,
     "metadata": {},
     "output_type": "execute_result"
    }
   ],
   "source": [
    "df_g = pd.Series(linear_g)\n",
    "df_g.describe()\n"
   ]
  },
  {
   "cell_type": "code",
   "execution_count": 8,
   "metadata": {},
   "outputs": [
    {
     "data": {
      "image/png": "[encoded data removed]",
      "text/plain": [
       "<Figure size 432x288 with 1 Axes>"
      ]
     },
     "metadata": {},
     "output_type": "display_data"
    }
   ],
   "source": [
    "plt.plot(linear_g)\n",
    "plt.show()"
   ]
  },
  {
   "cell_type": "code",
   "execution_count": 15,
   "metadata": {},
   "outputs": [],
   "source": [
    "imu_ang_vel_x = df.imu__angular_velocity_x.values\n",
    "imu_linear_vel_y = df.imu__linear_acceleration_y.values\n",
    "imu_linear_vel_z = df.imu__linear_acceleration_z.values\n"
   ]
  },
  {
   "cell_type": "code",
   "execution_count": 21,
   "metadata": {},
   "outputs": [],
   "source": [
    "def calc(gain_angular):\n",
    "    ground_last_theta = 0\n",
    "    last_imu_linear_acc_y = 0\n",
    "    last_imu_linear_acc_z = 0\n",
    "    g_th_max = 10.0\n",
    "    g_th_min =  0.143793\n",
    "    imu_angular_bias = -0.345464\n",
    "    imu_linear_acc_y_bias = -1.568076\n",
    "    imu_linear_acc_z_bias = -0.005081\n",
    "    fake_ground_pose_theta = 0.495\n",
    "    \n",
    "    a = np.zeros((df[df.imu__angular_velocity_x.notnull()].shape[0],1))\n",
    "    rangea = int(df[df.imu__angular_velocity_x.notnull()].shape[0]/4.0)\n",
    "    a[:rangea] = 0\n",
    "    a[rangea:rangea*2] = math.pi/2.0\n",
    "    a[rangea*2:rangea*3] = math.pi\n",
    "    a[rangea*3:-1] = 1.5 * math.pi\n",
    "    ground_thetas = a\n",
    "\n",
    "    #gain_angular = 0.99987\n",
    "    dt = 0.01\n",
    "    calculated_thetas = []\n",
    "    for i in range(df.shape[0]):\n",
    "        if not np.isnan(imu_linear_vel_y[i]):\n",
    "            last_imu_linear_acc_y = imu_linear_vel_y[i]\n",
    "        if not np.isnan(imu_linear_vel_z[i]):\n",
    "            last_imu_linear_acc_z = imu_linear_vel_z[i]\n",
    "        if not np.isnan(imu_ang_vel_x[i]):\n",
    "            new_theta = (imu_ang_vel_x[i] - imu_angular_bias)* dt\n",
    "            current_g = np.abs(last_imu_linear_acc_y - imu_linear_acc_y_bias) + np.abs(last_imu_linear_acc_z- imu_linear_acc_z_bias)\n",
    "            #print(current_g)\n",
    "            if current_g >= g_th_min and current_g <= g_th_max:\n",
    "                theta_acc = np.arctan2(last_imu_linear_acc_y,last_imu_linear_acc_z) \n",
    "                new_theta = gain_angular * new_theta + (1.0-gain_angular) * theta_acc\n",
    "                #print( theta_acc)\n",
    "            calculated_thetas.append(-new_theta)\n",
    "    calculated_thetas_cumsum = np.cumsum(calculated_thetas)\n",
    "    return np.unwrap(ground_thetas),calculated_thetas_cumsum"
   ]
  },
  {
   "cell_type": "code",
   "execution_count": 42,
   "metadata": {},
   "outputs": [
    {
     "data": {
      "image/png": "[encoded data removed]",
      "text/plain": [
       "<Figure size 432x288 with 1 Axes>"
      ]
     },
     "metadata": {},
     "output_type": "display_data"
    }
   ],
   "source": [
    "fig = plt.figure()\n",
    "ground,computed = calc(0.99989) #99989 #99976555\n",
    "plt.plot(ground)\n",
    "plt.plot(computed)\n",
    "plt.show()\n",
    "\n",
    "    "
   ]
  },
  {
   "cell_type": "code",
   "execution_count": 38,
   "metadata": {},
   "outputs": [
    {
     "ename": "AttributeError",
     "evalue": "'DataFrame' object has no attribute 'robot_markerset_ground_pose__x'",
     "output_type": "error",
     "traceback": [
      "\u001b[0;31m---------------------------------------------------------------------------\u001b[0m",
      "\u001b[0;31mAttributeError\u001b[0m                            Traceback (most recent call last)",
      "\u001b[0;32m<ipython-input-38-1defc6f482b2>\u001b[0m in \u001b[0;36m<module>\u001b[0;34m()\u001b[0m\n\u001b[1;32m      2\u001b[0m \u001b[0;34m\u001b[0m\u001b[0m\n\u001b[1;32m      3\u001b[0m \u001b[0mvel_linear_x\u001b[0m \u001b[0;34m=\u001b[0m \u001b[0mdf\u001b[0m\u001b[0;34m.\u001b[0m\u001b[0mvel__twist_linear_x\u001b[0m\u001b[0;34m.\u001b[0m\u001b[0mvalues\u001b[0m\u001b[0;34m\u001b[0m\u001b[0m\n\u001b[0;32m----> 4\u001b[0;31m \u001b[0mground_pose_x\u001b[0m \u001b[0;34m=\u001b[0m \u001b[0mdf\u001b[0m\u001b[0;34m.\u001b[0m\u001b[0mrobot_markerset_ground_pose__x\u001b[0m\u001b[0;34m.\u001b[0m\u001b[0mvalues\u001b[0m\u001b[0;34m\u001b[0m\u001b[0m\n\u001b[0m\u001b[1;32m      5\u001b[0m \u001b[0mground_pose_y\u001b[0m \u001b[0;34m=\u001b[0m \u001b[0mdf\u001b[0m\u001b[0;34m.\u001b[0m\u001b[0mrobot_markerset_ground_pose__y\u001b[0m\u001b[0;34m.\u001b[0m\u001b[0mvalues\u001b[0m\u001b[0;34m\u001b[0m\u001b[0m\n\u001b[1;32m      6\u001b[0m \u001b[0mprev_x\u001b[0m \u001b[0;34m=\u001b[0m \u001b[0;36m0\u001b[0m\u001b[0;34m\u001b[0m\u001b[0m\n",
      "\u001b[0;32m~/anaconda3/envs/main/lib/python3.6/site-packages/pandas/core/generic.py\u001b[0m in \u001b[0;36m__getattr__\u001b[0;34m(self, name)\u001b[0m\n\u001b[1;32m   4374\u001b[0m             \u001b[0;32mif\u001b[0m \u001b[0mself\u001b[0m\u001b[0;34m.\u001b[0m\u001b[0m_info_axis\u001b[0m\u001b[0;34m.\u001b[0m\u001b[0m_can_hold_identifiers_and_holds_name\u001b[0m\u001b[0;34m(\u001b[0m\u001b[0mname\u001b[0m\u001b[0;34m)\u001b[0m\u001b[0;34m:\u001b[0m\u001b[0;34m\u001b[0m\u001b[0m\n\u001b[1;32m   4375\u001b[0m                 \u001b[0;32mreturn\u001b[0m \u001b[0mself\u001b[0m\u001b[0;34m[\u001b[0m\u001b[0mname\u001b[0m\u001b[0;34m]\u001b[0m\u001b[0;34m\u001b[0m\u001b[0m\n\u001b[0;32m-> 4376\u001b[0;31m             \u001b[0;32mreturn\u001b[0m \u001b[0mobject\u001b[0m\u001b[0;34m.\u001b[0m\u001b[0m__getattribute__\u001b[0m\u001b[0;34m(\u001b[0m\u001b[0mself\u001b[0m\u001b[0;34m,\u001b[0m \u001b[0mname\u001b[0m\u001b[0;34m)\u001b[0m\u001b[0;34m\u001b[0m\u001b[0m\n\u001b[0m\u001b[1;32m   4377\u001b[0m \u001b[0;34m\u001b[0m\u001b[0m\n\u001b[1;32m   4378\u001b[0m     \u001b[0;32mdef\u001b[0m \u001b[0m__setattr__\u001b[0m\u001b[0;34m(\u001b[0m\u001b[0mself\u001b[0m\u001b[0;34m,\u001b[0m \u001b[0mname\u001b[0m\u001b[0;34m,\u001b[0m \u001b[0mvalue\u001b[0m\u001b[0;34m)\u001b[0m\u001b[0;34m:\u001b[0m\u001b[0;34m\u001b[0m\u001b[0m\n",
      "\u001b[0;31mAttributeError\u001b[0m: 'DataFrame' object has no attribute 'robot_markerset_ground_pose__x'"
     ]
    }
   ],
   "source": [
    "from scipy.spatial import distance\n",
    "\n",
    "vel_linear_x = df.vel__twist_linear_x.values\n",
    "ground_pose_x = df.robot_markerset_ground_pose__x.values\n",
    "ground_pose_y = df.robot_markerset_ground_pose__y.values\n",
    "prev_x = 0\n",
    "prev_y = 0\n",
    "dt = 1\n",
    "p2p_ground_euc_distances = []\n",
    "linear_euc_distances = []\n",
    "dt = 0\n",
    "for i in range(df.shape[0]):\n",
    "    if not np.isnan(vel_linear_x[i]):\n",
    "        linear_euc_distances.append(abs(vel_linear_x[i]) * dt)\n",
    "    if not np.isnan(ground_pose_x[i]) and not np.isnan(ground_pose_y[i]):\n",
    "        p2p_ground_euc_distances.append(distance.euclidean((ground_pose_x[i],ground_pose_y[i]), (prev_x,prev_y)))\n",
    "        prev_x = ground_pose_x[i]\n",
    "        prev_y = ground_pose_y[i]\n",
    "\n"
   ]
  },
  {
   "cell_type": "code",
   "execution_count": null,
   "metadata": {},
   "outputs": [],
   "source": [
    "p2p_ground_euc_distances[:10]"
   ]
  },
  {
   "cell_type": "code",
   "execution_count": null,
   "metadata": {},
   "outputs": [],
   "source": [
    "linear_acc_euc_distances[10000:10010]"
   ]
  },
  {
   "cell_type": "code",
   "execution_count": null,
   "metadata": {},
   "outputs": [],
   "source": [
    "fig = plt.figure()\n",
    "plt.plot(np.cumsum(p2p_ground_euc_distances))\n",
    "plt.plot(np.cumsum(linear_acc_euc_distances))\n",
    "plt.show()"
   ]
  },
  {
   "cell_type": "code",
   "execution_count": null,
   "metadata": {},
   "outputs": [],
   "source": []
  },
  {
   "cell_type": "code",
   "execution_count": null,
   "metadata": {},
   "outputs": [],
   "source": []
  }
 ],
 "metadata": {
  "kernelspec": {
   "display_name": "Python 3",
   "language": "python",
   "name": "python3"
  },
  "language_info": {
   "codemirror_mode": {
    "name": "ipython",
    "version": 3
   },
   "file_extension": ".py",
   "mimetype": "text/x-python",
   "name": "python",
   "nbconvert_exporter": "python",
   "pygments_lexer": "ipython3",
   "version": "3.6.6"
  }
 },
 "nbformat": 4,
 "nbformat_minor": 2
}
